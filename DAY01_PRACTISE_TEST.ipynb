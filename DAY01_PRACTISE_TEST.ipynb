{
  "nbformat": 4,
  "nbformat_minor": 0,
  "metadata": {
    "colab": {
      "provenance": []
    },
    "kernelspec": {
      "name": "python3",
      "display_name": "Python 3"
    },
    "language_info": {
      "name": "python"
    }
  },
  "cells": [
    {
      "cell_type": "markdown",
      "source": [
        "1. Given the string \"Hello, World!\", extract and print the\n",
        "substring \"Hello\"."
      ],
      "metadata": {
        "id": "CV-1tRvqbpgd"
      }
    },
    {
      "cell_type": "code",
      "source": [
        "qn1=\"Hello, World!\"\n",
        "print(qn1[0:5])"
      ],
      "metadata": {
        "colab": {
          "base_uri": "https://localhost:8080/"
        },
        "id": "W8R9O4X5bs8j",
        "outputId": "311d5d9e-5e0b-4987-eedb-e1d94d4dea22"
      },
      "execution_count": 1,
      "outputs": [
        {
          "output_type": "stream",
          "name": "stdout",
          "text": [
            "Hello\n"
          ]
        }
      ]
    },
    {
      "cell_type": "markdown",
      "source": [
        "2. Given the string \"Python is fun\", extract and print the\n",
        "substring \"is\".\n"
      ],
      "metadata": {
        "id": "V80jDnHxbwUh"
      }
    },
    {
      "cell_type": "code",
      "source": [
        "qn2=\"Python is fun\"\n",
        "print(qn2[7:9])"
      ],
      "metadata": {
        "colab": {
          "base_uri": "https://localhost:8080/"
        },
        "id": "oYFrBVMUbvJw",
        "outputId": "75a09a2a-09e9-46f9-f006-82e633d832a2"
      },
      "execution_count": 12,
      "outputs": [
        {
          "output_type": "stream",
          "name": "stdout",
          "text": [
            "is\n"
          ]
        }
      ]
    },
    {
      "cell_type": "markdown",
      "source": [
        "3. Given the string \"Programming\", extract and print the\n",
        "substring \"gram\" using slicing indices."
      ],
      "metadata": {
        "id": "ppKlOetKb3KC"
      }
    },
    {
      "cell_type": "code",
      "source": [
        "qn3=\"Programming\"\n",
        "print(qn3[3:7])"
      ],
      "metadata": {
        "colab": {
          "base_uri": "https://localhost:8080/"
        },
        "id": "RoQE6hHDb0Vf",
        "outputId": "d08ef826-0b56-454e-d8ea-dca8ee11cea2"
      },
      "execution_count": 3,
      "outputs": [
        {
          "output_type": "stream",
          "name": "stdout",
          "text": [
            "gram\n"
          ]
        }
      ]
    },
    {
      "cell_type": "markdown",
      "source": [
        "4. Given the string \"abcdefgh\", use slicing to print only the\n",
        "characters at even indices.\n"
      ],
      "metadata": {
        "id": "Dp1iHFwYb-lx"
      }
    },
    {
      "cell_type": "code",
      "source": [
        "qn4=\"abcdefgh\"\n",
        "print(qn4[0:len(qn4):2])\n"
      ],
      "metadata": {
        "colab": {
          "base_uri": "https://localhost:8080/"
        },
        "id": "gmLJccqdb7gZ",
        "outputId": "00462a7d-b1e9-49fe-90c1-38967928ba75"
      },
      "execution_count": 4,
      "outputs": [
        {
          "output_type": "stream",
          "name": "stdout",
          "text": [
            "aceg\n"
          ]
        }
      ]
    },
    {
      "cell_type": "markdown",
      "source": [
        "5. Given the string \"abcdefg\", use negative indices to extract\n",
        "and print the substring \"efg\"."
      ],
      "metadata": {
        "id": "tD6hZL3qcFKj"
      }
    },
    {
      "cell_type": "code",
      "source": [
        "qn5=\"abcdefgh\"\n",
        "print(qn5[-4:-1])"
      ],
      "metadata": {
        "colab": {
          "base_uri": "https://localhost:8080/"
        },
        "id": "dVPC6ZDIcMN5",
        "outputId": "1f6feaa2-a089-46bf-e138-20de78bd9439"
      },
      "execution_count": 5,
      "outputs": [
        {
          "output_type": "stream",
          "name": "stdout",
          "text": [
            "efg\n"
          ]
        }
      ]
    },
    {
      "cell_type": "markdown",
      "source": [
        "6. Given the string \"Data Science\", use negative indices to\n",
        "extract and print the last three characters."
      ],
      "metadata": {
        "id": "JUTwORNccPcD"
      }
    },
    {
      "cell_type": "code",
      "source": [
        "qn6=\"Data Science\"\n",
        "print(qn6[-3:])"
      ],
      "metadata": {
        "colab": {
          "base_uri": "https://localhost:8080/"
        },
        "id": "1NzihlAocR_c",
        "outputId": "34120adf-a1f9-40f6-a6c8-f0ddf86aced4"
      },
      "execution_count": 6,
      "outputs": [
        {
          "output_type": "stream",
          "name": "stdout",
          "text": [
            "nce\n"
          ]
        }
      ]
    },
    {
      "cell_type": "markdown",
      "source": [
        "7. Given the string \"abcdefghij\", use slicing with a step to\n",
        "print every second character."
      ],
      "metadata": {
        "id": "ylokbuQicUqZ"
      }
    },
    {
      "cell_type": "code",
      "source": [
        "qn7=\"abcdefgh\"\n",
        "print(qn7[1:len(qn7):2])"
      ],
      "metadata": {
        "colab": {
          "base_uri": "https://localhost:8080/"
        },
        "id": "tQqN-1vTcXai",
        "outputId": "1dada210-8266-456b-f9b1-29afd0f27922"
      },
      "execution_count": 14,
      "outputs": [
        {
          "output_type": "stream",
          "name": "stdout",
          "text": [
            "bdfh\n"
          ]
        }
      ]
    },
    {
      "cell_type": "markdown",
      "source": [
        "8. Given the string \"1234567890\", use slicing with a step to\n",
        "print the odd digits."
      ],
      "metadata": {
        "id": "86pWcV4YcaHs"
      }
    },
    {
      "cell_type": "code",
      "source": [
        "qn8=\"1234567890\"\n",
        "print(qn8[0:len(qn8):2])"
      ],
      "metadata": {
        "colab": {
          "base_uri": "https://localhost:8080/"
        },
        "id": "xVtL395Rce9C",
        "outputId": "6fbe16a7-36f6-4682-d85f-cdd87cc934a7"
      },
      "execution_count": 8,
      "outputs": [
        {
          "output_type": "stream",
          "name": "stdout",
          "text": [
            "13579\n"
          ]
        }
      ]
    },
    {
      "cell_type": "markdown",
      "source": [
        "9. Given the string \"Hello\", use slicing to print the string in\n",
        "reverse order."
      ],
      "metadata": {
        "id": "NaDH_7XpcgwG"
      }
    },
    {
      "cell_type": "code",
      "source": [
        "qn9=\"Hello\"\n",
        "print(qn9[::-1])"
      ],
      "metadata": {
        "colab": {
          "base_uri": "https://localhost:8080/"
        },
        "id": "3muWDv63ci8L",
        "outputId": "17d0f51e-411f-40f5-f54f-b43d8f3559b2"
      },
      "execution_count": 9,
      "outputs": [
        {
          "output_type": "stream",
          "name": "stdout",
          "text": [
            "olleH\n"
          ]
        }
      ]
    },
    {
      "cell_type": "markdown",
      "source": [
        "10. Given the string \"abcdefghijk\", extract and print the\n",
        "substring \"acegik\" using slicing."
      ],
      "metadata": {
        "id": "-gKzUn28clvL"
      }
    },
    {
      "cell_type": "code",
      "source": [
        "qn10=\"abcdefghijk\"\n",
        "print(qn10[0:len(qn10):2])"
      ],
      "metadata": {
        "colab": {
          "base_uri": "https://localhost:8080/"
        },
        "id": "efLanSNuco_6",
        "outputId": "36fb21ea-9106-4e30-c246-cf7b925ed029"
      },
      "execution_count": 10,
      "outputs": [
        {
          "output_type": "stream",
          "name": "stdout",
          "text": [
            "acegik\n"
          ]
        }
      ]
    }
  ]
}