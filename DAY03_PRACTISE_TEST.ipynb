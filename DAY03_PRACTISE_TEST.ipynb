{
  "nbformat": 4,
  "nbformat_minor": 0,
  "metadata": {
    "colab": {
      "provenance": []
    },
    "kernelspec": {
      "name": "python3",
      "display_name": "Python 3"
    },
    "language_info": {
      "name": "python"
    }
  },
  "cells": [
    {
      "cell_type": "markdown",
      "source": [
        "QN1. Given the participants' score sheet for your University Sports Day, you are required to\n",
        "find the runner-up score. You are given scores. Store them in a list and find the score of\n",
        "the runner-up. (Create an array of scores and print the runner up score)"
      ],
      "metadata": {
        "id": "nGrRLdOyu1J4"
      }
    },
    {
      "cell_type": "code",
      "source": [
        "arr=map(int,input(\"enter the values\").split(' '))\n",
        "runners_list=list(arr)\n",
        "sorted_list=sorted(runners_list,reverse=True)\n",
        "print(\"Score of runner up: \",sorted_list[0])"
      ],
      "metadata": {
        "colab": {
          "base_uri": "https://localhost:8080/"
        },
        "id": "1kigg42-u_Ra",
        "outputId": "b6507d48-8a6a-4eac-9a47-262c98bf090e"
      },
      "execution_count": 5,
      "outputs": [
        {
          "output_type": "stream",
          "name": "stdout",
          "text": [
            "enter the values10 20 30 45 41 23 5 17 30 32 41 23 45 49 39 25\n",
            "Score of runner up:  49\n"
          ]
        }
      ]
    },
    {
      "cell_type": "markdown",
      "source": [
        "QN2. A dictionary is given D={‘John’ [25,32,43],’Peter’:[87,55,96],’Ram’:[58,55,43],’Meena’:[63,79,85]}\n",
        "Get a name from user if the name in the dictionary change the values corresponding to\n",
        "that user to [88,77,99] and print the dictionary. Else print ‘Name not found’."
      ],
      "metadata": {
        "id": "xffhUzFE6GHA"
      }
    },
    {
      "cell_type": "code",
      "source": [
        "D={'John':[25,32,43],'Peter':[87,55,96],'Ram':[58,55,43],'Meena':[63,79,85]}\n",
        "name=str(input(\"Enter the name \")).capitalize()\n",
        "if name in D:\n",
        "  D[name]=[88,77,99]\n",
        "  print(\"New Dictionary \",D)\n",
        "else:\n",
        "  print('Name not found')"
      ],
      "metadata": {
        "id": "ail0ZZjnwx0f",
        "colab": {
          "base_uri": "https://localhost:8080/"
        },
        "outputId": "e134b036-b3b1-4e4f-e1a2-153fec497983"
      },
      "execution_count": 9,
      "outputs": [
        {
          "output_type": "stream",
          "name": "stdout",
          "text": [
            "Enter the name peter\n",
            "New Dictionary  {'John': [25, 32, 43], 'Peter': [88, 77, 99], 'Ram': [58, 55, 43], 'Meena': [63, 79, 85]}\n"
          ]
        }
      ]
    },
    {
      "cell_type": "code",
      "source": [
        "D={'John':[25,32,43],'Peter':[87,55,96],'Ram':[58,55,43],'Meena':[63,79,85]}\n",
        "name=str(input(\"Enter the name \")).capitalize()\n",
        "if name in D:\n",
        "  D[name]=[88,77,99]\n",
        "  print(\"New Dictionary \",D)\n",
        "else:\n",
        "  print('Name not found')"
      ],
      "metadata": {
        "colab": {
          "base_uri": "https://localhost:8080/"
        },
        "id": "j6ikH0Wb7ESJ",
        "outputId": "fe604af2-2ce1-4d34-d46d-11d4db1cfe25"
      },
      "execution_count": 10,
      "outputs": [
        {
          "output_type": "stream",
          "name": "stdout",
          "text": [
            "Enter the name rani\n",
            "Name not found\n"
          ]
        }
      ]
    },
    {
      "cell_type": "markdown",
      "source": [
        "QN3. Ticket Price Calculator:\n",
        "\n",
        "I. Ask the user to enter their age.\n",
        "\n",
        "II. Use control statements (if-elif-else) to calculate the ticket price based on the following conditions:\n",
        "\n",
        "a. If the age is below 5, the ticket price is free.\n",
        "\n",
        "b. If the age is between 5 and 12 (inclusive), the ticket price is Rs.10.\n",
        "\n",
        "c. If the age is above 12, the ticket price is Rs.50.\n",
        "\n",
        "d. If the age is above 60, the ticket price is free.\n",
        "\n",
        "e. If the gender is female, the ticket price is 50% of the applicable rates.\n",
        "\n",
        "III. Display the ticket price to the user."
      ],
      "metadata": {
        "id": "mJshHrI17gQd"
      }
    },
    {
      "cell_type": "code",
      "source": [
        "age=int(input(\"Enter you age Please! \"))\n",
        "gender=str(input(\"Enter you gender \")).lower()\n",
        "if age<5:\n",
        "  print(\"Ticket Price is free\")\n",
        "elif age>5 and age<=12:\n",
        "  if gender=='female':\n",
        "    p1=10/2\n",
        "    print(\"Ticket Price is Rs.\",p1)\n",
        "  else:\n",
        "    print(\"Ticket Price is Rs.10\")\n",
        "elif age>12 and age<=60:\n",
        "  if gender=='female':\n",
        "    p1=50/2\n",
        "    print(\"Ticket Price is Rs.\",p1)\n",
        "  else:\n",
        "    print(\"Ticket Price is Rs.50\")\n",
        "else:\n",
        "  print(\"Ticket Price is free\")"
      ],
      "metadata": {
        "colab": {
          "base_uri": "https://localhost:8080/"
        },
        "id": "63Lvl7537dN0",
        "outputId": "37926f92-ff61-42f2-bf6d-1ed834ea5225"
      },
      "execution_count": 15,
      "outputs": [
        {
          "output_type": "stream",
          "name": "stdout",
          "text": [
            "Enter you age Please! 6\n",
            "Enter you gender male\n",
            "Ticket Price is Rs.10\n"
          ]
        }
      ]
    },
    {
      "cell_type": "code",
      "source": [
        "age=int(input(\"Enter you age Please! \"))\n",
        "gender=str(input(\"Enter you gender \")).lower()\n",
        "if age<5:\n",
        "  print(\"Ticket Price is free\")\n",
        "elif age>5 and age<=12:\n",
        "  if gender=='female':\n",
        "    p1=10/2\n",
        "    print(\"Ticket Price is Rs.\",p1)\n",
        "  else:\n",
        "    print(\"Ticket Price is Rs.10\")\n",
        "elif age>12 and age<=60:\n",
        "  if gender=='female':\n",
        "    p1=50/2\n",
        "    print(\"Ticket Price is Rs.\",p1)\n",
        "  else:\n",
        "    print(\"Ticket Price is Rs.50\")\n",
        "else:\n",
        "  print(\"Ticket Price is free\")"
      ],
      "metadata": {
        "colab": {
          "base_uri": "https://localhost:8080/"
        },
        "id": "gdByPeDp9VP9",
        "outputId": "067300ed-33c7-471d-d46a-4aa6ff77ae01"
      },
      "execution_count": 16,
      "outputs": [
        {
          "output_type": "stream",
          "name": "stdout",
          "text": [
            "Enter you age Please! 45\n",
            "Enter you gender female\n",
            "Ticket Price is Rs. 25.0\n"
          ]
        }
      ]
    },
    {
      "cell_type": "code",
      "source": [
        "age=int(input(\"Enter you age Please! \"))\n",
        "gender=str(input(\"Enter you gender \")).lower()\n",
        "if age<5:\n",
        "  print(\"Ticket Price is free\")\n",
        "elif age>5 and age<=12:\n",
        "  if gender=='female':\n",
        "    p1=10/2\n",
        "    print(\"Ticket Price is Rs.\",p1)\n",
        "  else:\n",
        "    print(\"Ticket Price is Rs.10\")\n",
        "elif age>12 and age<=60:\n",
        "  if gender=='female':\n",
        "    p1=50/2\n",
        "    print(\"Ticket Price is Rs.\",p1)\n",
        "  else:\n",
        "    print(\"Ticket Price is Rs.50\")\n",
        "else:\n",
        "  print(\"Ticket Price is free\")"
      ],
      "metadata": {
        "colab": {
          "base_uri": "https://localhost:8080/"
        },
        "id": "eILWXnWe9_BZ",
        "outputId": "be014ffc-c1b0-4fc9-f06f-f47553e5b522"
      },
      "execution_count": 17,
      "outputs": [
        {
          "output_type": "stream",
          "name": "stdout",
          "text": [
            "Enter you age Please! 65\n",
            "Enter you gender female\n",
            "Ticket Price is free\n"
          ]
        }
      ]
    },
    {
      "cell_type": "code",
      "source": [
        "age=int(input(\"Enter you age Please! \"))\n",
        "gender=str(input(\"Enter you gender \")).lower()\n",
        "if age<5:\n",
        "  print(\"Ticket Price is free\")\n",
        "elif age>5 and age<=12:\n",
        "  if gender=='female':\n",
        "    p1=10/2\n",
        "    print(\"Ticket Price is Rs.\",p1)\n",
        "  else:\n",
        "    print(\"Ticket Price is Rs.10\")\n",
        "elif age>12 and age<=60:\n",
        "  if gender=='female':\n",
        "    p1=50/2\n",
        "    print(\"Ticket Price is Rs.\",p1)\n",
        "  else:\n",
        "    print(\"Ticket Price is Rs.50\")\n",
        "else:\n",
        "  print(\"Ticket Price is free\")"
      ],
      "metadata": {
        "colab": {
          "base_uri": "https://localhost:8080/"
        },
        "id": "EsIfNmKn-ClE",
        "outputId": "91780f61-4a12-445e-b2de-585a20217273"
      },
      "execution_count": 18,
      "outputs": [
        {
          "output_type": "stream",
          "name": "stdout",
          "text": [
            "Enter you age Please! 12\n",
            "Enter you gender female\n",
            "Ticket Price is Rs. 5.0\n"
          ]
        }
      ]
    },
    {
      "cell_type": "code",
      "source": [],
      "metadata": {
        "id": "Rv_EliQU-JHZ"
      },
      "execution_count": null,
      "outputs": []
    }
  ]
}