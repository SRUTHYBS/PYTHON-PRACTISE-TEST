{
  "nbformat": 4,
  "nbformat_minor": 0,
  "metadata": {
    "colab": {
      "provenance": []
    },
    "kernelspec": {
      "name": "python3",
      "display_name": "Python 3"
    },
    "language_info": {
      "name": "python"
    }
  },
  "cells": [
    {
      "cell_type": "markdown",
      "source": [
        "QN1. Write an interactive Python Program to implement “Guess Game\""
      ],
      "metadata": {
        "id": "eSXadm2RDXXY"
      }
    },
    {
      "cell_type": "code",
      "source": [
        "secretNumber=3\n",
        "guess=int(input(\"Guess a number between 1 and 10 \"))\n",
        "while True:\n",
        "  if secretNumber==guess:\n",
        "    print(\"Congratulations! You guessed the number correctly!\")\n",
        "    break\n",
        "  elif secretNumber<guess:\n",
        "    print(\"Too high! Try again.\")\n",
        "    guess=int(input(\"Guess a number between 1 and 10 \"))\n",
        "  else:\n",
        "    print(\"Too low! Try again.\")\n",
        "    guess=int(input(\"Guess a number between 1 and 10 \"))\n",
        "  continue\n"
      ],
      "metadata": {
        "colab": {
          "base_uri": "https://localhost:8080/"
        },
        "id": "Ut0CISbVDlmj",
        "outputId": "1ce315f2-5c9c-41d8-a262-6d4a685d0322"
      },
      "execution_count": 24,
      "outputs": [
        {
          "output_type": "stream",
          "name": "stdout",
          "text": [
            "Guess a number between 1 and 10 2\n",
            "Too low! Try again.\n",
            "Guess a number between 1 and 10 5\n",
            "Too high! Try again.\n",
            "Guess a number between 1 and 10 3\n",
            "Congratulations! You guessed the number correctly!\n"
          ]
        }
      ]
    },
    {
      "cell_type": "markdown",
      "source": [
        "QN2. Write a program to find and print the Factorial of this number. The Factorial of a positive integer N refers to the product of all number in the range from 1 to N."
      ],
      "metadata": {
        "id": "KUllblOoIQjC"
      }
    },
    {
      "cell_type": "code",
      "source": [
        "num=int(input(\"enter the number: \"))\n",
        "prod=1\n",
        "for i in range(1,num+1):\n",
        "  prod=prod*i\n",
        "print(prod)"
      ],
      "metadata": {
        "colab": {
          "base_uri": "https://localhost:8080/"
        },
        "id": "1-dPJvkzFH8B",
        "outputId": "fdc9c26d-4223-41d2-b45e-94d00c14c908"
      },
      "execution_count": 18,
      "outputs": [
        {
          "output_type": "stream",
          "name": "stdout",
          "text": [
            "enter the number: 5\n",
            "120\n"
          ]
        }
      ]
    },
    {
      "cell_type": "markdown",
      "source": [
        "QN3. Profile Picture size calculator"
      ],
      "metadata": {
        "id": "KGmP2UJkJJlU"
      }
    },
    {
      "cell_type": "code",
      "source": [
        "W = float(input(\"width of the photo\"))\n",
        "H = float(input(\"Height of the photo\"))\n",
        "L = float(input(\"enter the minimum dimension\"))\n",
        "while True:\n",
        "  if H<L or W<L:\n",
        "    print(\"UPLOAD ANOTHER\")\n",
        "    W = float(input(\"width of the photo\"))\n",
        "    H = float(input(\"Height of the photo\"))\n",
        "  elif H==L and W==L:\n",
        "    print(\"ACCEPTED\")\n",
        "    break\n",
        "  else:\n",
        "    print(\"CROPIT\")\n",
        "    W = float(input(\"width of the photo\"))\n",
        "    H = float(input(\"Height of the photo\"))\n",
        "  continue"
      ],
      "metadata": {
        "colab": {
          "base_uri": "https://localhost:8080/"
        },
        "id": "-7A7OAZZI99V",
        "outputId": "3aefb441-35e9-4a17-873b-c8e6080568bc"
      },
      "execution_count": 23,
      "outputs": [
        {
          "output_type": "stream",
          "name": "stdout",
          "text": [
            "width of the photo45\n",
            "Height of the photo65\n",
            "enter the minimum dimension55\n",
            "UPLOAD ANOTHER\n",
            "width of the photo65\n",
            "Height of the photo75\n",
            "CROPIT\n",
            "width of the photo55\n",
            "Height of the photo55\n",
            "ACCEPTED\n"
          ]
        }
      ]
    }
  ]
}