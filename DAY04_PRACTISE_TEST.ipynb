{
  "nbformat": 4,
  "nbformat_minor": 0,
  "metadata": {
    "colab": {
      "provenance": []
    },
    "kernelspec": {
      "name": "python3",
      "display_name": "Python 3"
    },
    "language_info": {
      "name": "python"
    }
  },
  "cells": [
    {
      "cell_type": "markdown",
      "source": [
        "QN1. Write an interactive Python Program to implement following “Guess Game”\n",
        "\n",
        "i. Think of a number between 1 and 10 and store it in a variable called \"secretNumber\".\n",
        "\n",
        "ii. Ask the user to enter a number between 1 and 10 and store it in a variable called \"guess\".\n",
        "\n",
        "iii. Use control statements (if-else) to check if the guess is correct, higher, or lower than the secret number.\n",
        "\n",
        "iv. Display appropriate messages to the user based on their guess:\n",
        "\n",
        "• If the guess is correct, display \"Congratulations! You guessed the number correctly!\"\n",
        "\n",
        "• If the guess is higher than the secret number, display \"Too high! Try again.\"\n",
        "\n",
        "• If the guess is lower than the secret number, display \"Too low! Try again.\"\n",
        "\n",
        "v. Allow the user to keep guessing until they guess the correct number."
      ],
      "metadata": {
        "id": "eSXadm2RDXXY"
      }
    },
    {
      "cell_type": "code",
      "source": [
        "secretNumber=3\n",
        "guess=int(input(\"Guess a number between 1 and 10 \"))\n",
        "while True:\n",
        "  if secretNumber==guess:\n",
        "    print(\"Congratulations! You guessed the number correctly!\")\n",
        "    break\n",
        "  elif secretNumber<guess:\n",
        "    print(\"Too high! Try again.\")\n",
        "    guess=int(input(\"Guess a number between 1 and 10 \"))\n",
        "  else:\n",
        "    print(\"Too low! Try again.\")\n",
        "    guess=int(input(\"Guess a number between 1 and 10 \"))\n",
        "  continue\n"
      ],
      "metadata": {
        "colab": {
          "base_uri": "https://localhost:8080/"
        },
        "id": "Ut0CISbVDlmj",
        "outputId": "1ce315f2-5c9c-41d8-a262-6d4a685d0322"
      },
      "execution_count": 24,
      "outputs": [
        {
          "output_type": "stream",
          "name": "stdout",
          "text": [
            "Guess a number between 1 and 10 2\n",
            "Too low! Try again.\n",
            "Guess a number between 1 and 10 5\n",
            "Too high! Try again.\n",
            "Guess a number between 1 and 10 3\n",
            "Congratulations! You guessed the number correctly!\n"
          ]
        }
      ]
    },
    {
      "cell_type": "markdown",
      "source": [
        "QN2. Write a program to find and print the Factorial of this number. The Factorial of a positive integer N refers to the product of all number in the range from 1 to N."
      ],
      "metadata": {
        "id": "KUllblOoIQjC"
      }
    },
    {
      "cell_type": "code",
      "source": [
        "num=int(input(\"enter the number: \"))\n",
        "prod=1\n",
        "for i in range(1,num+1):\n",
        "  prod=prod*i\n",
        "print(prod)"
      ],
      "metadata": {
        "colab": {
          "base_uri": "https://localhost:8080/"
        },
        "id": "1-dPJvkzFH8B",
        "outputId": "fdc9c26d-4223-41d2-b45e-94d00c14c908"
      },
      "execution_count": 18,
      "outputs": [
        {
          "output_type": "stream",
          "name": "stdout",
          "text": [
            "enter the number: 5\n",
            "120\n"
          ]
        }
      ]
    },
    {
      "cell_type": "markdown",
      "source": [
        "QN3. Roy wants to change his profile picture on Facebook. Now Facebook has some restriction over the dimension of picture that we can upload. Minimum dimension of the picture can be L x L, where L is the length of the side of square. Now Roy has N photos of various dimensions. Dimension of a photo is denoted as W x H where W - width of the photo and H - Height of the photo\n",
        "\n",
        " When any photo is uploaded following events may occur:\n",
        "\n",
        " [1] If any of the width or height is less than L, user is prompted to upload another one. Print \"UPLOAD ANOTHER\" in this case.\n",
        "\n",
        "[2] If width and height, both are large enough and\n",
        "(a) if the photo is already square then it is accepted. Print \"ACCEPTED\" in this case.\n",
        "(b) else user is prompted to crop it. Print \"CROP IT\" in this case.\n",
        "Given L, N, W and H as input, write a program to print appropriate text as output."
      ],
      "metadata": {
        "id": "KGmP2UJkJJlU"
      }
    },
    {
      "cell_type": "code",
      "source": [
        "W = float(input(\"width of the photo\"))\n",
        "H = float(input(\"Height of the photo\"))\n",
        "L = float(input(\"enter the minimum dimension\"))\n",
        "while True:\n",
        "  if H<L or W<L:\n",
        "    print(\"UPLOAD ANOTHER\")\n",
        "    W = float(input(\"width of the photo\"))\n",
        "    H = float(input(\"Height of the photo\"))\n",
        "  elif H==L and W==L:\n",
        "    print(\"ACCEPTED\")\n",
        "    break\n",
        "  else:\n",
        "    print(\"CROPIT\")\n",
        "    W = float(input(\"width of the photo\"))\n",
        "    H = float(input(\"Height of the photo\"))\n",
        "  continue"
      ],
      "metadata": {
        "colab": {
          "base_uri": "https://localhost:8080/"
        },
        "id": "-7A7OAZZI99V",
        "outputId": "3aefb441-35e9-4a17-873b-c8e6080568bc"
      },
      "execution_count": 23,
      "outputs": [
        {
          "output_type": "stream",
          "name": "stdout",
          "text": [
            "width of the photo45\n",
            "Height of the photo65\n",
            "enter the minimum dimension55\n",
            "UPLOAD ANOTHER\n",
            "width of the photo65\n",
            "Height of the photo75\n",
            "CROPIT\n",
            "width of the photo55\n",
            "Height of the photo55\n",
            "ACCEPTED\n"
          ]
        }
      ]
    }
  ]
}