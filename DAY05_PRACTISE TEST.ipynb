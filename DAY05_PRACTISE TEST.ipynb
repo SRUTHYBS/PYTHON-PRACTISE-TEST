{
  "nbformat": 4,
  "nbformat_minor": 0,
  "metadata": {
    "colab": {
      "provenance": []
    },
    "kernelspec": {
      "name": "python3",
      "display_name": "Python 3"
    },
    "language_info": {
      "name": "python"
    }
  },
  "cells": [
    {
      "cell_type": "markdown",
      "source": [
        "#QN1. Write a function that returns the middle value among three integers.Write code to test this function with different inputs."
      ],
      "metadata": {
        "id": "U11nycqs2BV6"
      }
    },
    {
      "cell_type": "code",
      "source": [
        "#Write a function that returns the middle value among three integers.\n",
        "\n",
        "def middle(a,b,c):\n",
        "  l=[a,b,c]\n",
        "  k=max(l)\n",
        "  p=min(l)\n",
        "  s=[k,p]\n",
        "  for i in l:\n",
        "    if i not in s:\n",
        "      return i\n"
      ],
      "metadata": {
        "id": "lV1QyQLW2H74"
      },
      "execution_count": null,
      "outputs": []
    },
    {
      "cell_type": "code",
      "source": [
        "middle(1,2,3)"
      ],
      "metadata": {
        "colab": {
          "base_uri": "https://localhost:8080/"
        },
        "id": "5LwJpg9M3gol",
        "outputId": "b0cc98bd-5326-4e6a-b01f-22973ff152ad"
      },
      "execution_count": null,
      "outputs": [
        {
          "output_type": "execute_result",
          "data": {
            "text/plain": [
              "2"
            ]
          },
          "metadata": {},
          "execution_count": 2
        }
      ]
    },
    {
      "cell_type": "code",
      "source": [
        "#Write code to test this function with different inputs.\n",
        "\n",
        "def middle():\n",
        "  a=int(input(\"Enter first number \"))\n",
        "  b=int(input(\"Enter second number \"))\n",
        "  c=int(input(\"Enter third number \"))\n",
        "  l=[a,b,c]\n",
        "  k=max(l)\n",
        "  p=min(l)\n",
        "  s=[k,p]\n",
        "  for i in l:\n",
        "    if i not in s:\n",
        "      return i"
      ],
      "metadata": {
        "id": "OexDDAUd3lI3"
      },
      "execution_count": null,
      "outputs": []
    },
    {
      "cell_type": "code",
      "source": [
        "middle()"
      ],
      "metadata": {
        "colab": {
          "base_uri": "https://localhost:8080/"
        },
        "id": "6lUcXXNE4M99",
        "outputId": "85734053-a8cc-4278-c933-1386877140ad"
      },
      "execution_count": null,
      "outputs": [
        {
          "name": "stdout",
          "output_type": "stream",
          "text": [
            "Enter first number-1\n",
            "Enter second number2\n",
            "Enter third number-6\n"
          ]
        },
        {
          "output_type": "execute_result",
          "data": {
            "text/plain": [
              "-1"
            ]
          },
          "metadata": {},
          "execution_count": 7
        }
      ]
    },
    {
      "cell_type": "markdown",
      "source": [
        "#QN2. Build a calculator in Python using functions"
      ],
      "metadata": {
        "id": "faGOStkR4i1O"
      }
    },
    {
      "cell_type": "code",
      "source": [
        "# This function adds two numbers\n",
        "def add(x, y):\n",
        "    return x + y\n",
        "\n",
        "# This function subtracts two numbers\n",
        "def subtract(x, y):\n",
        "    return x - y\n",
        "\n",
        "# This function multiplies two numbers\n",
        "def multiply(x, y):\n",
        "    return x * y\n",
        "\n",
        "# This function divides two numbers\n",
        "def divide(x, y):\n",
        "    return x / y\n",
        "\n",
        "\n",
        "print(\"Select operation.\")\n",
        "print(\"1.Add\")\n",
        "print(\"2.Subtract\")\n",
        "print(\"3.Multiply\")\n",
        "print(\"4.Divide\")\n",
        "\n",
        "while True:\n",
        "    # take input from the user\n",
        "    choice = input(\"Enter choice(1/2/3/4): \")\n",
        "\n",
        "    # check if choice is one of the four options\n",
        "    if choice in ('1', '2', '3', '4'):\n",
        "        try:\n",
        "            num1 = float(input(\"Enter first number: \"))\n",
        "            num2 = float(input(\"Enter second number: \"))\n",
        "        except ValueError:\n",
        "            print(\"Invalid input. Please enter a number.\")\n",
        "            continue\n",
        "\n",
        "        if choice == '1':\n",
        "            print(num1, \"+\", num2, \"=\", add(num1, num2))\n",
        "\n",
        "        elif choice == '2':\n",
        "            print(num1, \"-\", num2, \"=\", subtract(num1, num2))\n",
        "\n",
        "        elif choice == '3':\n",
        "            print(num1, \"*\", num2, \"=\", multiply(num1, num2))\n",
        "\n",
        "        elif choice == '4':\n",
        "            print(num1, \"/\", num2, \"=\", divide(num1, num2))\n",
        "\n",
        "        # check if user wants another calculation\n",
        "        # break the while loop if answer is no\n",
        "        next_calculation = input(\"Let's do next calculation? (yes/no): \")\n",
        "        if next_calculation == \"no\":\n",
        "          break\n",
        "    else:\n",
        "        print(\"Invalid Input\")"
      ],
      "metadata": {
        "colab": {
          "base_uri": "https://localhost:8080/"
        },
        "id": "WuF3Jnhu4-cS",
        "outputId": "543f37ca-8f24-486b-81c1-3b63a078e508"
      },
      "execution_count": null,
      "outputs": [
        {
          "name": "stdout",
          "output_type": "stream",
          "text": [
            "Select operation.\n",
            "1.Add\n",
            "2.Subtract\n",
            "3.Multiply\n",
            "4.Divide\n",
            "Enter choice(1/2/3/4): 1\n",
            "Enter first number: 5\n",
            "Enter second number: 6\n",
            "5.0 + 6.0 = 11.0\n",
            "Let's do next calculation? (yes/no): no\n"
          ]
        }
      ]
    },
    {
      "cell_type": "markdown",
      "source": [
        "#QN3. Write a function that takes the lengths of the two shorter sides of a right triangle as its parameters. Return the hypotenuse of the triangle, computed using Pythagorean theorem, as the function’s result."
      ],
      "metadata": {
        "id": "H6QXtldG5nj0"
      }
    },
    {
      "cell_type": "code",
      "source": [
        "import numpy as np\n",
        "def hypo():\n",
        "  a=float(input(\"enter the side1 length: \"))\n",
        "  b=float(input(\"enter the side2 length: \"))\n",
        "  if a>0 and b>0:\n",
        "    h=np.sqrt(a**2+b**2)\n",
        "    return round(h,2)\n",
        "  else:\n",
        "    return \"Please enter positive numbers\""
      ],
      "metadata": {
        "id": "o__ABAIA5_bA"
      },
      "execution_count": null,
      "outputs": []
    },
    {
      "cell_type": "code",
      "source": [
        "hypo()"
      ],
      "metadata": {
        "colab": {
          "base_uri": "https://localhost:8080/"
        },
        "id": "TdAHyjBc6pMe",
        "outputId": "2df114a4-b52e-41ca-c23b-6fe185132167"
      },
      "execution_count": null,
      "outputs": [
        {
          "name": "stdout",
          "output_type": "stream",
          "text": [
            "enter the side1 length: 45\n",
            "enter the side2 length: 55\n"
          ]
        },
        {
          "output_type": "execute_result",
          "data": {
            "text/plain": [
              "71.06"
            ]
          },
          "metadata": {},
          "execution_count": 23
        }
      ]
    },
    {
      "cell_type": "code",
      "source": [
        "hypo()"
      ],
      "metadata": {
        "colab": {
          "base_uri": "https://localhost:8080/",
          "height": 70
        },
        "id": "46nTd0WX6r8x",
        "outputId": "d1ace3d6-726b-4d80-df89-364260ba411a"
      },
      "execution_count": null,
      "outputs": [
        {
          "name": "stdout",
          "output_type": "stream",
          "text": [
            "enter the side1 length: -1\n",
            "enter the side2 length: 2\n"
          ]
        },
        {
          "output_type": "execute_result",
          "data": {
            "text/plain": [
              "'Please enter positive numbers'"
            ],
            "application/vnd.google.colaboratory.intrinsic+json": {
              "type": "string"
            }
          },
          "metadata": {},
          "execution_count": 24
        }
      ]
    },
    {
      "cell_type": "markdown",
      "source": [
        "#QN4. The Rectangle problem"
      ],
      "metadata": {
        "id": "1eYKjyOX8G5x"
      }
    },
    {
      "cell_type": "markdown",
      "source": [
        "(a) Write a Rectangle class in Python language, allowing you to build a rectangle with\n",
        "length and width attributes.\n",
        "\n",
        "(b) Create a Perimeter() method to calculate the perimeter of the rectangle and a Area()\n",
        "method to calculate the area of the rectangle.\n",
        "\n",
        "(c) Create a method display() that display the length, width, perimeter and area of an\n",
        "object created using an instantiation on rectangle class."
      ],
      "metadata": {
        "id": "Kbry5LiN8OT5"
      }
    },
    {
      "cell_type": "code",
      "source": [
        "class Rectangle:\n",
        "  def __init__(self,length,width):\n",
        "    self.length=length\n",
        "    self.width=width\n",
        "  def calculate_area(self):\n",
        "    return self.length*self.width\n",
        "  def calculate_perimeter(self):\n",
        "    return 2*(self.length+self.width)\n",
        "\n",
        "\n",
        "my_rectangle=Rectangle(5,8)\n",
        "print(\"length of rectangle is: \",my_rectangle.length)\n",
        "print(\"width of rectangle is: \",my_rectangle.width)\n",
        "area=my_rectangle.calculate_area()\n",
        "print(\"area of rectangle is: \",area)\n",
        "perimeter=my_rectangle.calculate_perimeter()\n",
        "print(\"perimeter of rectangle is: \",perimeter)"
      ],
      "metadata": {
        "id": "H5bUGYUJ8Lyj",
        "colab": {
          "base_uri": "https://localhost:8080/"
        },
        "outputId": "7e2aa3b9-e6ea-431b-dd15-dc77604ec6dd"
      },
      "execution_count": 37,
      "outputs": [
        {
          "output_type": "stream",
          "name": "stdout",
          "text": [
            "length of rectangle is:  5\n",
            "width of rectangle is:  8\n",
            "area of rectangle is:  40\n",
            "perimeter of rectangle is:  26\n"
          ]
        }
      ]
    },
    {
      "cell_type": "markdown",
      "source": [
        "QN5. The Bank Account problem"
      ],
      "metadata": {
        "id": "WZpoop8MQcsL"
      }
    },
    {
      "cell_type": "markdown",
      "source": [
        "(a) Create a Python class called BankAccount which represents a bank account, having\n",
        "as attributes: accountNumber (numeric type), name (name of the account owner as\n",
        "string type), balance.\n",
        "\n",
        "(b) Create a constructor with parameters: accountNumber, name, balance.\n",
        "\n",
        "(c) Create a Deposit() method which manages the deposit actions.\n",
        "\n",
        "(d) Create a Withdrawal() method which manages withdrawals actions.\n",
        "\n",
        "(e) Create an bankFees() method to apply the bank fees with a percentage of 5% of the\n",
        "balance account.\n",
        "\n",
        "(f) Create a display() method to display account details."
      ],
      "metadata": {
        "id": "4x244kwoT_LX"
      }
    },
    {
      "cell_type": "code",
      "source": [
        "class BankAccount:\n",
        "  def __init__(self):\n",
        "    self.balance=0\n",
        "    print(\"Welcome!\")\n",
        "  def Deposit(self):\n",
        "    amount=float(input(\"Enter the deposit amount: \"))\n",
        "    self.balance+=amount\n",
        "    print(\"Amount Deposited: \",amount)\n",
        "  def Withdrawal(self):\n",
        "    amount=float(input(\"Enter the withdrawal amount: \"))\n",
        "    if self.balance>=amount:\n",
        "      self.balance-=amount\n",
        "      print(\"Amount withdrawn: \",amount)\n",
        "    else:\n",
        "      print(\"Insufficient balance\")\n",
        "  def bankFees(self):\n",
        "    amount=0.05*self.balance\n",
        "    self.balance-=0.05*self.balance\n",
        "    print(\"Bankfee is: \",amount)\n",
        "  def display(self):\n",
        "    print(\"Net Balance: \",self.balance)\n",
        "\n",
        "# Driver code\n",
        "\n",
        "# creating an object of class\n",
        "s = BankAccount()\n",
        "\n",
        "# Calling functions with that class object\n",
        "s.Deposit()\n",
        "s.Withdrawal()\n",
        "s.bankFees()\n",
        "s.display()"
      ],
      "metadata": {
        "colab": {
          "base_uri": "https://localhost:8080/"
        },
        "id": "cJW4vH5aFyXz",
        "outputId": "6c4adc35-ac90-4f3a-8556-ba37e126f402"
      },
      "execution_count": 39,
      "outputs": [
        {
          "output_type": "stream",
          "name": "stdout",
          "text": [
            "Welcome!\n",
            "Enter the deposit amount: 1000\n",
            "Amount Deposited:  1000.0\n",
            "Enter the withdrawal amount: 500\n",
            "Amount withdrawn:  500.0\n",
            "Bankfee is:  25.0\n",
            "Net Balance:  475.0\n"
          ]
        }
      ]
    },
    {
      "cell_type": "code",
      "source": [],
      "metadata": {
        "id": "zXpaXFs9YHuQ"
      },
      "execution_count": null,
      "outputs": []
    }
  ]
}