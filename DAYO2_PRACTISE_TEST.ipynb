{
  "nbformat": 4,
  "nbformat_minor": 0,
  "metadata": {
    "colab": {
      "provenance": []
    },
    "kernelspec": {
      "name": "python3",
      "display_name": "Python 3"
    },
    "language_info": {
      "name": "python"
    }
  },
  "cells": [
    {
      "cell_type": "markdown",
      "source": [
        "#1. Write a program to find sum of all elements in a list of integers."
      ],
      "metadata": {
        "id": "3tSHN_Y-oZjg"
      }
    },
    {
      "cell_type": "code",
      "source": [
        "numlist = [2,4,2,5,7,9,23,4,5]\n",
        "numsum = sum(numlist)\n",
        "print('Sum of List: ',numsum)"
      ],
      "metadata": {
        "id": "F1z_vpK6nFIB",
        "colab": {
          "base_uri": "https://localhost:8080/"
        },
        "outputId": "fe31546a-fb36-4b23-e0cc-774072ade589"
      },
      "execution_count": 1,
      "outputs": [
        {
          "output_type": "stream",
          "name": "stdout",
          "text": [
            "Sum of List:  61\n"
          ]
        }
      ]
    },
    {
      "cell_type": "markdown",
      "source": [
        "#2. Input a sentence as a string.\n",
        "a) Print its length\n",
        "\n",
        "b) Print the first half of string"
      ],
      "metadata": {
        "id": "YVG2ohMiogpD"
      }
    },
    {
      "cell_type": "code",
      "source": [
        "qn2=input(str(\"Enter the sentence: \"))\n",
        "length = len(qn2)\n",
        "hf = int(len(qn2)/2)\n",
        "half =  qn2[0:hf]\n",
        "print(\"Length of string: \",length)\n",
        "print(\"Fisrt half of string: \",half)"
      ],
      "metadata": {
        "colab": {
          "base_uri": "https://localhost:8080/"
        },
        "id": "wiqttp29pOGo",
        "outputId": "351aa1ab-969b-4ebd-938f-bf93b4412dee"
      },
      "execution_count": 2,
      "outputs": [
        {
          "output_type": "stream",
          "name": "stdout",
          "text": [
            "Enter the sentence: Welcome to the world of Python\n",
            "Length of string:  30\n",
            "Fisrt half of string:  Welcome to the \n"
          ]
        }
      ]
    },
    {
      "cell_type": "markdown",
      "source": [
        "#3. Write a program to enter a tuple of integers as (78,45,32,19,82,77,40,39) and Change the third value in the tuple to 100"
      ],
      "metadata": {
        "id": "4hCHaUx8slRZ"
      }
    },
    {
      "cell_type": "code",
      "source": [
        "tp=(78,45,32,19,82,77,40,39)\n",
        "print(tp)"
      ],
      "metadata": {
        "colab": {
          "base_uri": "https://localhost:8080/"
        },
        "id": "BV5bl5j8sOZG",
        "outputId": "f63adbcd-eea9-4c6b-b3e4-0fc4887e980c"
      },
      "execution_count": 3,
      "outputs": [
        {
          "output_type": "stream",
          "name": "stdout",
          "text": [
            "(78, 45, 32, 19, 82, 77, 40, 39)\n"
          ]
        }
      ]
    },
    {
      "cell_type": "markdown",
      "source": [
        "We are not able to change any elements in tuple. Because tuples are immutable\n"
      ],
      "metadata": {
        "id": "VcNA7DruubJR"
      }
    },
    {
      "cell_type": "markdown",
      "source": [
        "#4. Consider a list listA=[19,32,10,55,31,32,94,29,10,65,77,40,40]\n",
        "(a) Delete the first occurrence of 32\n",
        "\n",
        "(b) Delete all occurrences of 40\n",
        "\n",
        "(c) Delete the value at index=5\n",
        "\n",
        "(d) Modify the value at index=9 as 300\n",
        "\n",
        "(e) Add 200 at index=2\n",
        "\n",
        "(f) Print the final list with its length, maximum value\n",
        "and sum of all elements\n"
      ],
      "metadata": {
        "id": "9enWSzfcukMQ"
      }
    },
    {
      "cell_type": "code",
      "source": [
        "#Delete the first occurrence of 32\n",
        "\n",
        "listA=[19,32,10,55,31,32,94,29,10,65,77,40,40]\n",
        "listA.remove(32)\n",
        "listA"
      ],
      "metadata": {
        "colab": {
          "base_uri": "https://localhost:8080/"
        },
        "id": "KXfSERGes5Ij",
        "outputId": "b1b00e22-a5ef-4237-f869-d4464cbc2674"
      },
      "execution_count": 4,
      "outputs": [
        {
          "output_type": "execute_result",
          "data": {
            "text/plain": [
              "[19, 10, 55, 31, 32, 94, 29, 10, 65, 77, 40, 40]"
            ]
          },
          "metadata": {},
          "execution_count": 4
        }
      ]
    },
    {
      "cell_type": "code",
      "source": [
        "#Delete all occurrences of 40\n",
        "\n",
        "listA.pop()\n",
        "listA"
      ],
      "metadata": {
        "colab": {
          "base_uri": "https://localhost:8080/"
        },
        "id": "MirV0nywvGDd",
        "outputId": "30f9f093-a6f4-4af6-c152-f60350ef51b7"
      },
      "execution_count": 5,
      "outputs": [
        {
          "output_type": "execute_result",
          "data": {
            "text/plain": [
              "[19, 10, 55, 31, 32, 94, 29, 10, 65, 77, 40]"
            ]
          },
          "metadata": {},
          "execution_count": 5
        }
      ]
    },
    {
      "cell_type": "code",
      "source": [
        "#Delete all occurrences of 40\n",
        "\n",
        "listA.pop()\n",
        "listA"
      ],
      "metadata": {
        "colab": {
          "base_uri": "https://localhost:8080/"
        },
        "id": "axg4w5rCvNRR",
        "outputId": "e48a7923-5c2c-4c49-b698-9dbcd1c9e6ae"
      },
      "execution_count": 6,
      "outputs": [
        {
          "output_type": "execute_result",
          "data": {
            "text/plain": [
              "[19, 10, 55, 31, 32, 94, 29, 10, 65, 77]"
            ]
          },
          "metadata": {},
          "execution_count": 6
        }
      ]
    },
    {
      "cell_type": "code",
      "source": [
        "# Delete the value at index=5\n",
        "\n",
        "listA.pop(5)\n",
        "listA"
      ],
      "metadata": {
        "colab": {
          "base_uri": "https://localhost:8080/"
        },
        "id": "Q5u0dl0LvPcJ",
        "outputId": "00fd1252-953d-40cc-9d49-5bf4fb7a8e95"
      },
      "execution_count": 7,
      "outputs": [
        {
          "output_type": "execute_result",
          "data": {
            "text/plain": [
              "[19, 10, 55, 31, 32, 29, 10, 65, 77]"
            ]
          },
          "metadata": {},
          "execution_count": 7
        }
      ]
    },
    {
      "cell_type": "code",
      "source": [
        "len(listA)"
      ],
      "metadata": {
        "colab": {
          "base_uri": "https://localhost:8080/"
        },
        "id": "qV-h08C5IlLl",
        "outputId": "c3a2c462-d8ea-449f-e709-d68aad4f3f7b"
      },
      "execution_count": 8,
      "outputs": [
        {
          "output_type": "execute_result",
          "data": {
            "text/plain": [
              "9"
            ]
          },
          "metadata": {},
          "execution_count": 8
        }
      ]
    },
    {
      "cell_type": "code",
      "source": [
        "#Modify the value at index=9 as 300\n",
        "#list has 9 elements. Doesn't have an element at index=9. so changing the 9th element of the list\n",
        "listA[8]=300\n",
        "listA"
      ],
      "metadata": {
        "colab": {
          "base_uri": "https://localhost:8080/"
        },
        "id": "c2GZj-mGvp0M",
        "outputId": "6f1c65bf-f91e-4d8d-9957-adf82a06501d"
      },
      "execution_count": 9,
      "outputs": [
        {
          "output_type": "execute_result",
          "data": {
            "text/plain": [
              "[19, 10, 55, 31, 32, 29, 10, 65, 300]"
            ]
          },
          "metadata": {},
          "execution_count": 9
        }
      ]
    },
    {
      "cell_type": "code",
      "source": [
        "#Add 200 at index=2\n",
        "listA.insert(2,200)\n",
        "listA"
      ],
      "metadata": {
        "colab": {
          "base_uri": "https://localhost:8080/"
        },
        "id": "bYSkuZWOxAEG",
        "outputId": "3fb140b4-207e-43d8-a425-359098149b36"
      },
      "execution_count": 10,
      "outputs": [
        {
          "output_type": "execute_result",
          "data": {
            "text/plain": [
              "[19, 10, 200, 55, 31, 32, 29, 10, 65, 300]"
            ]
          },
          "metadata": {},
          "execution_count": 10
        }
      ]
    },
    {
      "cell_type": "code",
      "source": [
        "#Print the final list with its length, maximum value and sum of all elements\n",
        "print(\"Final List: \", listA)\n",
        "print(\"Length of List: \",len(listA))\n",
        "print(\"Maximun Value: \",max(listA))\n",
        "print(\"Sum of all elements: \",sum(listA))"
      ],
      "metadata": {
        "colab": {
          "base_uri": "https://localhost:8080/"
        },
        "id": "cxK-iC9QxuTU",
        "outputId": "b374929e-5d56-416b-e95b-e0f11c6d7d74"
      },
      "execution_count": 11,
      "outputs": [
        {
          "output_type": "stream",
          "name": "stdout",
          "text": [
            "Final List:  [19, 10, 200, 55, 31, 32, 29, 10, 65, 300]\n",
            "Length of List:  10\n",
            "Maximun Value:  300\n",
            "Sum of all elements:  751\n"
          ]
        }
      ]
    },
    {
      "cell_type": "markdown",
      "source": [
        "#5. Consider a string ”The day has been long”.\n",
        "\n",
        "(a) Delete the value at index =4\n",
        "\n",
        "(b) Print the string 4 times in a single line with space\n",
        "between each repetition\n",
        "\n",
        "(c) Print the string 3 times in a new line each time\n",
        "\n",
        "(d) Modify the string at index 7 as ’A’\n",
        "\n",
        "(e) Print the string from index 4 to 15\n",
        "\n",
        "(f) Print the final string with its length"
      ],
      "metadata": {
        "id": "o1v_Qakzy-i-"
      }
    },
    {
      "cell_type": "code",
      "source": [
        "#Delete the value at index =4"
      ],
      "metadata": {
        "id": "AZCtsniHyGyc"
      },
      "execution_count": 12,
      "outputs": []
    },
    {
      "cell_type": "markdown",
      "source": [
        "String is immuttable. We can't change any value in a string"
      ],
      "metadata": {
        "id": "KCHFRby30QGO"
      }
    },
    {
      "cell_type": "code",
      "source": [
        "#Print the string 4 times in a single line with space between each repetition\n",
        "string=\" The day has been long\"\n",
        "print(string*4)"
      ],
      "metadata": {
        "colab": {
          "base_uri": "https://localhost:8080/"
        },
        "id": "IZRAGdQ0zSg0",
        "outputId": "fb3ae213-eb61-48eb-b319-e32246ffdeca"
      },
      "execution_count": 13,
      "outputs": [
        {
          "output_type": "stream",
          "name": "stdout",
          "text": [
            " The day has been long The day has been long The day has been long The day has been long\n"
          ]
        }
      ]
    },
    {
      "cell_type": "code",
      "source": [
        "#Print the string 3 times in a new line each time\n",
        "string=\"The day has been long\\n\"\n",
        "print(string*3)"
      ],
      "metadata": {
        "colab": {
          "base_uri": "https://localhost:8080/"
        },
        "id": "uogmy7qc0ocq",
        "outputId": "548abb11-9851-4f4c-e646-4ef0e7a046e6"
      },
      "execution_count": 14,
      "outputs": [
        {
          "output_type": "stream",
          "name": "stdout",
          "text": [
            "The day has been long\n",
            "The day has been long\n",
            "The day has been long\n",
            "\n"
          ]
        }
      ]
    },
    {
      "cell_type": "code",
      "source": [
        "#Modify the string at index 7 as ’A’"
      ],
      "metadata": {
        "id": "Hj0cueP91DJE"
      },
      "execution_count": 15,
      "outputs": []
    },
    {
      "cell_type": "markdown",
      "source": [
        "Python strings are immutable (i.e. they can't be modified)"
      ],
      "metadata": {
        "id": "fIIlWEBlJW3l"
      }
    },
    {
      "cell_type": "code",
      "source": [
        "#Print the string from index 4 to 15\n",
        "print(string[4:16])"
      ],
      "metadata": {
        "colab": {
          "base_uri": "https://localhost:8080/"
        },
        "id": "WeJ9hDcx1mIH",
        "outputId": "9da1060c-e05f-4126-ac4d-38956a13d093"
      },
      "execution_count": 16,
      "outputs": [
        {
          "output_type": "stream",
          "name": "stdout",
          "text": [
            "day has been\n"
          ]
        }
      ]
    },
    {
      "cell_type": "code",
      "source": [
        "#Print the final string with its length\n",
        "print(\"String is: \",string)\n",
        "print(\"Length is: \",len(string))"
      ],
      "metadata": {
        "id": "0O8fQ_t81jtQ",
        "colab": {
          "base_uri": "https://localhost:8080/"
        },
        "outputId": "a75a2923-1442-4334-8f77-0a806128729e"
      },
      "execution_count": 17,
      "outputs": [
        {
          "output_type": "stream",
          "name": "stdout",
          "text": [
            "String is:  The day has been long\n",
            "\n",
            "Length is:  22\n"
          ]
        }
      ]
    },
    {
      "cell_type": "code",
      "source": [],
      "metadata": {
        "id": "cWXWIi3LJ0ru"
      },
      "execution_count": null,
      "outputs": []
    }
  ]
}